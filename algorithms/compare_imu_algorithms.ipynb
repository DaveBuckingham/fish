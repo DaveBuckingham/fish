{
 "cells": [
  {
   "cell_type": "code",
   "execution_count": 1,
   "metadata": {
    "collapsed": true
   },
   "outputs": [],
   "source": [
    "import numpy as np\n",
    "from scipy import signal, interpolate\n",
    "import quaternion\n",
    "import itertools\n",
    "\n",
    "import matplotlib.pyplot as plt\n",
    "\n",
    "from copy import copy\n",
    "\n",
    "import seaborn as sns\n",
    "sns.set_context('notebook', font_scale=1.5)\n",
    "\n",
    "%matplotlib inline\n",
    "plt.rcParams['figure.figsize'] = 10, 6  # that's default image size for this interactive session\n",
    "plt.rcParams['axes.formatter.useoffset'] = False"
   ]
  },
  {
   "cell_type": "code",
   "execution_count": 2,
   "metadata": {},
   "outputs": [],
   "source": [
    "%load_ext autoreload\n",
    "%autoreload 2"
   ]
  },
  {
   "cell_type": "code",
   "execution_count": 3,
   "metadata": {},
   "outputs": [],
   "source": [
    "from test_imu_algorithms import IMU_test_data"
   ]
  },
  {
   "cell_type": "heading",
   "metadata": {},
   "level": 1,
   "source": [
    "Compare orientation changes, acceleration, and both"
   ]
  },
  {
   "cell_type": "markdown",
   "metadata": {},
   "source": [
    "Set up test data from 0 to 50 seconds at 200Hz"
   ]
  },
  {
   "cell_type": "code",
   "execution_count": 4,
   "metadata": {},
   "outputs": [],
   "source": [
    "pitchvals = [0, 5, 15]        # degrees of pitch\n",
    "accelvals = [0, 0.05, 0.15]   # meters of forward-back motion\n",
    "frequencies = [1,]     # Hz\n",
    "phaseoff = [0, 0.2, 0.5]      # fractional phase offset between pitch and acceleration\n",
    "chip_orient = [(-85, 82, 0)]       # initial roll, pitch, yaw of chip"
   ]
  },
  {
   "cell_type": "markdown",
   "metadata": {},
   "source": [
    "All combinations of the parameters, but same noise settings"
   ]
  },
  {
   "cell_type": "code",
   "execution_count": 10,
   "metadata": {},
   "outputs": [
    {
     "name": "stdout",
     "output_type": "stream",
     "text": [
      "pitch 0, accel 0, freq 1, delta 0, orient (-85, 82, 0)\n"
     ]
    },
    {
     "name": "stdout",
     "output_type": "stream",
     "text": [
      "pitch 0, accel 0, freq 1, delta 0.2, orient (-85, 82, 0)\n"
     ]
    },
    {
     "name": "stdout",
     "output_type": "stream",
     "text": [
      "pitch 0, accel 0, freq 1, delta 0.5, orient (-85, 82, 0)\n"
     ]
    },
    {
     "name": "stdout",
     "output_type": "stream",
     "text": [
      "pitch 0, accel 0.05, freq 1, delta 0, orient (-85, 82, 0)\n"
     ]
    },
    {
     "name": "stdout",
     "output_type": "stream",
     "text": [
      "pitch 0, accel 0.05, freq 1, delta 0.2, orient (-85, 82, 0)\n"
     ]
    },
    {
     "name": "stdout",
     "output_type": "stream",
     "text": [
      "pitch 0, accel 0.05, freq 1, delta 0.5, orient (-85, 82, 0)\n"
     ]
    },
    {
     "name": "stdout",
     "output_type": "stream",
     "text": [
      "pitch 0, accel 0.15, freq 1, delta 0, orient (-85, 82, 0)\n"
     ]
    },
    {
     "name": "stdout",
     "output_type": "stream",
     "text": [
      "pitch 0, accel 0.15, freq 1, delta 0.2, orient (-85, 82, 0)\n"
     ]
    },
    {
     "name": "stdout",
     "output_type": "stream",
     "text": [
      "pitch 0, accel 0.15, freq 1, delta 0.5, orient (-85, 82, 0)\n"
     ]
    },
    {
     "name": "stdout",
     "output_type": "stream",
     "text": [
      "pitch 5, accel 0, freq 1, delta 0, orient (-85, 82, 0)\n"
     ]
    },
    {
     "name": "stdout",
     "output_type": "stream",
     "text": [
      "pitch 5, accel 0, freq 1, delta 0.2, orient (-85, 82, 0)\n"
     ]
    },
    {
     "name": "stdout",
     "output_type": "stream",
     "text": [
      "pitch 5, accel 0, freq 1, delta 0.5, orient (-85, 82, 0)\n"
     ]
    },
    {
     "name": "stdout",
     "output_type": "stream",
     "text": [
      "pitch 5, accel 0.05, freq 1, delta 0, orient (-85, 82, 0)\n"
     ]
    },
    {
     "name": "stdout",
     "output_type": "stream",
     "text": [
      "pitch 5, accel 0.05, freq 1, delta 0.2, orient (-85, 82, 0)\n"
     ]
    },
    {
     "name": "stdout",
     "output_type": "stream",
     "text": [
      "pitch 5, accel 0.05, freq 1, delta 0.5, orient (-85, 82, 0)\n"
     ]
    },
    {
     "name": "stdout",
     "output_type": "stream",
     "text": [
      "pitch 5, accel 0.15, freq 1, delta 0, orient (-85, 82, 0)\n"
     ]
    },
    {
     "name": "stdout",
     "output_type": "stream",
     "text": [
      "pitch 5, accel 0.15, freq 1, delta 0.2, orient (-85, 82, 0)\n"
     ]
    },
    {
     "name": "stdout",
     "output_type": "stream",
     "text": [
      "pitch 5, accel 0.15, freq 1, delta 0.5, orient (-85, 82, 0)\n"
     ]
    },
    {
     "name": "stdout",
     "output_type": "stream",
     "text": [
      "pitch 15, accel 0, freq 1, delta 0, orient (-85, 82, 0)\n"
     ]
    },
    {
     "name": "stdout",
     "output_type": "stream",
     "text": [
      "pitch 15, accel 0, freq 1, delta 0.2, orient (-85, 82, 0)\n"
     ]
    },
    {
     "name": "stdout",
     "output_type": "stream",
     "text": [
      "pitch 15, accel 0, freq 1, delta 0.5, orient (-85, 82, 0)\n"
     ]
    },
    {
     "name": "stdout",
     "output_type": "stream",
     "text": [
      "pitch 15, accel 0.05, freq 1, delta 0, orient (-85, 82, 0)\n"
     ]
    },
    {
     "name": "stdout",
     "output_type": "stream",
     "text": [
      "pitch 15, accel 0.05, freq 1, delta 0.2, orient (-85, 82, 0)\n"
     ]
    },
    {
     "name": "stdout",
     "output_type": "stream",
     "text": [
      "pitch 15, accel 0.05, freq 1, delta 0.5, orient (-85, 82, 0)\n"
     ]
    },
    {
     "name": "stdout",
     "output_type": "stream",
     "text": [
      "pitch 15, accel 0.15, freq 1, delta 0, orient (-85, 82, 0)\n"
     ]
    },
    {
     "name": "stdout",
     "output_type": "stream",
     "text": [
      "pitch 15, accel 0.15, freq 1, delta 0.2, orient (-85, 82, 0)\n"
     ]
    },
    {
     "name": "stdout",
     "output_type": "stream",
     "text": [
      "pitch 15, accel 0.15, freq 1, delta 0.5, orient (-85, 82, 0)\n"
     ]
    }
   ],
   "source": [
    "imus = []\n",
    "params = []\n",
    "for p, a, f, d, o in itertools.product(pitchvals, accelvals, frequencies, phaseoff, chip_orient):\n",
    "    print \"pitch {}, accel {}, freq {}, delta {}, orient {}\".format(p,a,f,d,o)\n",
    "    imu1 = IMU_test_data((0, 50, 1.0/200))\n",
    "    R0 = imu1._eul2rotm(o)\n",
    "    imu1.set_initial_orientation(R0)\n",
    "    \n",
    "    imu1.set_noise_params(gyrorms=1.0,          # deg/sec\n",
    "                     gyrofreq=20.0,        # Hz\n",
    "                     gyrodriftrms=0.0,     # deg/sec\n",
    "                     gyrodriftfreq=0.1,    # Hz\n",
    "                     accrms=0.03,          # g\n",
    "                     accfreq=33)           # Hz\n",
    "    imu1.generate_arm_data(alpham=np.deg2rad(p), # pitch angle\n",
    "                      Am=a, # back and forth amplitude\n",
    "                      f=f, # oscillation frequency\n",
    "                      l=0.4,    # arm length\n",
    "                      delta=d) # phase lag between angle and forward back motion\n",
    "    \n",
    "    imus.append(imu1)\n",
    "    params.append((p,a,f,d,o))"
   ]
  },
  {
   "cell_type": "heading",
   "metadata": {},
   "level": 2,
   "source": [
    "Run the algorithms"
   ]
  },
  {
   "cell_type": "code",
   "execution_count": 11,
   "metadata": {},
   "outputs": [],
   "source": [
    "def get_error(imu):\n",
    "    oerr = np.sqrt(np.mean(np.square(imu.orient_world - imu.orient_world_true), axis=0))\n",
    "    aerr = np.sqrt(np.mean(np.square(imu.accdyn_world - imu.accdyn_world_true), axis=0))\n",
    "    \n",
    "    return oerr, aerr"
   ]
  },
  {
   "cell_type": "code",
   "execution_count": 14,
   "metadata": {},
   "outputs": [
    {
     "name": "stdout",
     "output_type": "stream",
     "text": [
      "dt=0.005, dur=10.0, N=10000, n=2000, nblocks=5\nnblocks=5, ymn.shape=(7, 3)\n"
     ]
    },
    {
     "name": "stdout",
     "output_type": "stream",
     "text": [
      "1 of 27 (4.0%)\n"
     ]
    },
    {
     "name": "stdout",
     "output_type": "stream",
     "text": [
      "dt=0.005, dur=10.0, N=10000, n=2000, nblocks=5\nnblocks=5, ymn.shape=(7, 3)\n"
     ]
    },
    {
     "name": "stdout",
     "output_type": "stream",
     "text": [
      "2 of 27 (7.0%)\n"
     ]
    },
    {
     "name": "stdout",
     "output_type": "stream",
     "text": [
      "dt=0.005, dur=10.0, N=10000, n=2000, nblocks=5\nnblocks=5, ymn.shape=(7, 3)\n"
     ]
    },
    {
     "name": "stdout",
     "output_type": "stream",
     "text": [
      "3 of 27 (11.0%)\n"
     ]
    },
    {
     "name": "stdout",
     "output_type": "stream",
     "text": [
      "dt=0.005, dur=10.0, N=10000, n=2000, nblocks=5\nnblocks=5, ymn.shape=(7, 3)\n"
     ]
    },
    {
     "name": "stdout",
     "output_type": "stream",
     "text": [
      "4 of 27 (15.0%)\n"
     ]
    },
    {
     "name": "stdout",
     "output_type": "stream",
     "text": [
      "dt=0.005, dur=10.0, N=10000, n=2000, nblocks=5\nnblocks=5, ymn.shape=(7, 3)\n"
     ]
    },
    {
     "name": "stdout",
     "output_type": "stream",
     "text": [
      "5 of 27 (19.0%)\n"
     ]
    },
    {
     "name": "stdout",
     "output_type": "stream",
     "text": [
      "dt=0.005, dur=10.0, N=10000, n=2000, nblocks=5\nnblocks=5, ymn.shape=(7, 3)\n"
     ]
    },
    {
     "name": "stdout",
     "output_type": "stream",
     "text": [
      "6 of 27 (22.0%)\n"
     ]
    },
    {
     "name": "stdout",
     "output_type": "stream",
     "text": [
      "dt=0.005, dur=10.0, N=10000, n=2000, nblocks=5\nnblocks=5, ymn.shape=(7, 3)\n"
     ]
    },
    {
     "name": "stdout",
     "output_type": "stream",
     "text": [
      "7 of 27 (26.0%)\n"
     ]
    },
    {
     "name": "stdout",
     "output_type": "stream",
     "text": [
      "dt=0.005, dur=10.0, N=10000, n=2000, nblocks=5\nnblocks=5, ymn.shape=(7, 3)\n"
     ]
    },
    {
     "name": "stdout",
     "output_type": "stream",
     "text": [
      "8 of 27 (30.0%)\n"
     ]
    },
    {
     "name": "stdout",
     "output_type": "stream",
     "text": [
      "dt=0.005, dur=10.0, N=10000, n=2000, nblocks=5\nnblocks=5, ymn.shape=(7, 3)\n"
     ]
    },
    {
     "name": "stdout",
     "output_type": "stream",
     "text": [
      "9 of 27 (33.0%)\n"
     ]
    },
    {
     "name": "stdout",
     "output_type": "stream",
     "text": [
      "dt=0.005, dur=10.0, N=10000, n=2000, nblocks=5\nnblocks=5, ymn.shape=(7, 3)\n"
     ]
    },
    {
     "name": "stdout",
     "output_type": "stream",
     "text": [
      "10 of 27 (37.0%)\n"
     ]
    },
    {
     "name": "stdout",
     "output_type": "stream",
     "text": [
      "dt=0.005, dur=10.0, N=10000, n=2000, nblocks=5\nnblocks=5, ymn.shape=(7, 3)\n"
     ]
    },
    {
     "name": "stdout",
     "output_type": "stream",
     "text": [
      "11 of 27 (41.0%)\n"
     ]
    },
    {
     "name": "stdout",
     "output_type": "stream",
     "text": [
      "dt=0.005, dur=10.0, N=10000, n=2000, nblocks=5\nnblocks=5, ymn.shape=(7, 3)\n"
     ]
    },
    {
     "name": "stdout",
     "output_type": "stream",
     "text": [
      "12 of 27 (44.0%)\n"
     ]
    },
    {
     "name": "stdout",
     "output_type": "stream",
     "text": [
      "dt=0.005, dur=10.0, N=10000, n=2000, nblocks=5\nnblocks=5, ymn.shape=(7, 3)\n"
     ]
    },
    {
     "name": "stdout",
     "output_type": "stream",
     "text": [
      "13 of 27 (48.0%)\n"
     ]
    },
    {
     "name": "stdout",
     "output_type": "stream",
     "text": [
      "dt=0.005, dur=10.0, N=10000, n=2000, nblocks=5\nnblocks=5, ymn.shape=(7, 3)\n"
     ]
    },
    {
     "name": "stdout",
     "output_type": "stream",
     "text": [
      "14 of 27 (52.0%)\n"
     ]
    },
    {
     "name": "stdout",
     "output_type": "stream",
     "text": [
      "dt=0.005, dur=10.0, N=10000, n=2000, nblocks=5\nnblocks=5, ymn.shape=(7, 3)\n"
     ]
    },
    {
     "name": "stdout",
     "output_type": "stream",
     "text": [
      "15 of 27 (56.0%)\n"
     ]
    },
    {
     "name": "stdout",
     "output_type": "stream",
     "text": [
      "dt=0.005, dur=10.0, N=10000, n=2000, nblocks=5\nnblocks=5, ymn.shape=(7, 3)\n"
     ]
    },
    {
     "name": "stdout",
     "output_type": "stream",
     "text": [
      "16 of 27 (59.0%)\n"
     ]
    },
    {
     "name": "stdout",
     "output_type": "stream",
     "text": [
      "dt=0.005, dur=10.0, N=10000, n=2000, nblocks=5\nnblocks=5, ymn.shape=(7, 3)\n"
     ]
    },
    {
     "name": "stdout",
     "output_type": "stream",
     "text": [
      "17 of 27 (63.0%)\n"
     ]
    },
    {
     "name": "stdout",
     "output_type": "stream",
     "text": [
      "dt=0.005, dur=10.0, N=10000, n=2000, nblocks=5\nnblocks=5, ymn.shape=(7, 3)\n"
     ]
    },
    {
     "name": "stdout",
     "output_type": "stream",
     "text": [
      "18 of 27 (67.0%)\n"
     ]
    },
    {
     "name": "stdout",
     "output_type": "stream",
     "text": [
      "dt=0.005, dur=10.0, N=10000, n=2000, nblocks=5\nnblocks=5, ymn.shape=(7, 3)\n"
     ]
    },
    {
     "name": "stdout",
     "output_type": "stream",
     "text": [
      "19 of 27 (70.0%)\n"
     ]
    },
    {
     "name": "stdout",
     "output_type": "stream",
     "text": [
      "dt=0.005, dur=10.0, N=10000, n=2000, nblocks=5\nnblocks=5, ymn.shape=(7, 3)\n"
     ]
    },
    {
     "name": "stdout",
     "output_type": "stream",
     "text": [
      "20 of 27 (74.0%)\n"
     ]
    },
    {
     "name": "stdout",
     "output_type": "stream",
     "text": [
      "dt=0.005, dur=10.0, N=10000, n=2000, nblocks=5\nnblocks=5, ymn.shape=(7, 3)\n"
     ]
    },
    {
     "name": "stdout",
     "output_type": "stream",
     "text": [
      "21 of 27 (78.0%)\n"
     ]
    },
    {
     "name": "stdout",
     "output_type": "stream",
     "text": [
      "dt=0.005, dur=10.0, N=10000, n=2000, nblocks=5\nnblocks=5, ymn.shape=(7, 3)\n"
     ]
    },
    {
     "name": "stdout",
     "output_type": "stream",
     "text": [
      "22 of 27 (81.0%)\n"
     ]
    },
    {
     "name": "stdout",
     "output_type": "stream",
     "text": [
      "dt=0.005, dur=10.0, N=10000, n=2000, nblocks=5\nnblocks=5, ymn.shape=(7, 3)\n"
     ]
    },
    {
     "name": "stdout",
     "output_type": "stream",
     "text": [
      "23 of 27 (85.0%)\n"
     ]
    },
    {
     "name": "stdout",
     "output_type": "stream",
     "text": [
      "dt=0.005, dur=10.0, N=10000, n=2000, nblocks=5\nnblocks=5, ymn.shape=(7, 3)\n"
     ]
    },
    {
     "name": "stdout",
     "output_type": "stream",
     "text": [
      "24 of 27 (89.0%)\n"
     ]
    },
    {
     "name": "stdout",
     "output_type": "stream",
     "text": [
      "dt=0.005, dur=10.0, N=10000, n=2000, nblocks=5\nnblocks=5, ymn.shape=(7, 3)\n"
     ]
    },
    {
     "name": "stdout",
     "output_type": "stream",
     "text": [
      "25 of 27 (93.0%)\n"
     ]
    },
    {
     "name": "stdout",
     "output_type": "stream",
     "text": [
      "dt=0.005, dur=10.0, N=10000, n=2000, nblocks=5\nnblocks=5, ymn.shape=(7, 3)\n"
     ]
    },
    {
     "name": "stdout",
     "output_type": "stream",
     "text": [
      "26 of 27 (96.0%)\n"
     ]
    },
    {
     "name": "stdout",
     "output_type": "stream",
     "text": [
      "dt=0.005, dur=10.0, N=10000, n=2000, nblocks=5\nnblocks=5, ymn.shape=(7, 3)\n"
     ]
    },
    {
     "name": "stdout",
     "output_type": "stream",
     "text": [
      "27 of 27 (100.0%)\n"
     ]
    }
   ],
   "source": [
    "orient = []\n",
    "accdyn = []\n",
    "orient_err = []\n",
    "acc_err = []\n",
    "\n",
    "for i, imu1 in enumerate(imus):\n",
    "    # EKF\n",
    "    imu1.filter(nsamp=10, method='running')\n",
    "\n",
    "    imu1.calibrate(duration=30.0)\n",
    "    imu1.get_inertial_coords(duration=30.0)\n",
    "    imu1.get_world_coordinates(duration=30.0)\n",
    "    \n",
    "    imu1.get_orientation(method='ekf', Ca=(1.0, 1.0, 1.0))\n",
    "    orient1 = copy(imu1.orient_world)\n",
    "    accdyn1 = copy(imu1.accdyn_world)\n",
    "\n",
    "    oerr1, aerr1 = get_error(imu1)\n",
    "    \n",
    "    # Madgwick\n",
    "    imu1.filter(method='butter', order=5, gyro_cutoff=(0.1, 10), acc_cutoff=(0, 30))\n",
    "    imu1.get_orientation(method='madgwick')\n",
    "    orient2 = copy(imu1.orient_world)\n",
    "    accdyn2 = copy(imu1.accdyn_world)\n",
    "    \n",
    "    oerr2, aerr2 = get_error(imu1)\n",
    "\n",
    "    orient.append([orient1, orient2])\n",
    "    accdyn.append([accdyn1, accdyn2])\n",
    "    orient_err.append([oerr1, oerr2])\n",
    "    acc_err.append([aerr1, aerr2])\n",
    "    print \"{} of {} ({}%)\".format(i+1, len(imus), round(float(i+1)/len(imus)*100))"
   ]
  },
  {
   "cell_type": "code",
   "execution_count": 18,
   "metadata": {},
   "outputs": [],
   "source": [
    "orient_err = np.array(orient_err)\n",
    "acc_err = np.array(acc_err)"
   ]
  },
  {
   "cell_type": "code",
   "execution_count": 21,
   "metadata": {},
   "outputs": [],
   "source": [
    "total_orient_err = np.sum(orient_err, axis=2)\n",
    "total_acc_err = np.sum(acc_err, axis=2)"
   ]
  },
  {
   "cell_type": "code",
   "execution_count": 26,
   "metadata": {},
   "outputs": [
    {
     "data": {
      "image/png": "[encoded data removed]",
      "text/plain": [
       "<matplotlib.figure.Figure at 0x131286550>"
      ]
     },
     "metadata": {},
     "output_type": "display_data"
    }
   ],
   "source": [
    "fig, ax = plt.subplots(2,1, sharex=True)\n",
    "\n",
    "width = 0.35\n",
    "\n",
    "ind = np.arange(len(imus))+1\n",
    "ax[0].bar(ind-width/2, np.rad2deg(total_orient_err[:,0]), width=width, color='r', label='EKF')\n",
    "ax[0].bar(ind+width/2, np.rad2deg(total_orient_err[:,1]), width=width, color='b', label='mad')\n",
    "ax[0].set_ylabel('Orientation error (deg)')\n",
    "ax[0].legend()\n",
    "\n",
    "ax[1].bar(ind-width/2, total_acc_err[:,0], width=width, color='r', label='EKF')\n",
    "ax[1].bar(ind+width/2, total_acc_err[:,1], width=width, color='b', label='mad')\n",
    "ax[1].set_ylabel('Acceleration error (g)')\n",
    "\n",
    "ax[1].set_xlabel('Parameter set')\n",
    "ax[1].set_xticks(ind[::2])\n",
    "ax[1].set_xlim([0, len(imus)+1])\n",
    "\n",
    "plt.show()"
   ]
  },
  {
   "cell_type": "code",
   "execution_count": null,
   "metadata": {},
   "outputs": [],
   "source": [
    ""
   ]
  }
 ],
 "metadata": {
  "kernelspec": {
   "display_name": "Python 2",
   "language": "python",
   "name": "python2"
  },
  "language_info": {
   "codemirror_mode": {
    "name": "ipython",
    "version": 2.0
   },
   "file_extension": ".py",
   "mimetype": "text/x-python",
   "name": "python",
   "nbconvert_exporter": "python",
   "pygments_lexer": "ipython2",
   "version": "2.7.6"
  }
 },
 "nbformat": 4,
 "nbformat_minor": 0
}