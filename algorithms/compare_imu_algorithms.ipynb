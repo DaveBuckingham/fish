{
 "cells": [
  {
   "cell_type": "code",
   "execution_count": 1,
   "metadata": {
    "collapsed": true
   },
   "outputs": [],
   "source": [
    "import numpy as np\n",
    "from scipy import signal, interpolate\n",
    "import quaternion\n",
    "import itertools\n",
    "\n",
    "import matplotlib.pyplot as plt\n",
    "\n",
    "from copy import copy\n",
    "\n",
    "\n",
    "import seaborn as sns\n",
    "sns.set_context('notebook', font_scale=1.5)\n",
    "\n",
    "%matplotlib inline\n",
    "plt.rcParams['figure.figsize'] = 10, 6  # that's default image size for this interactive session\n",
    "plt.rcParams['axes.formatter.useoffset'] = False"
   ]
  },
  {
   "cell_type": "code",
   "execution_count": 2,
   "metadata": {},
   "outputs": [],
   "source": [
    "%load_ext autoreload\n",
    "%autoreload 2"
   ]
  },
  {
   "cell_type": "code",
   "execution_count": 3,
   "metadata": {},
   "outputs": [],
   "source": [
    "from test_imu_algorithms import IMU_test_data"
   ]
  },
  {
   "cell_type": "heading",
   "metadata": {},
   "level": 1,
   "source": [
    "Compare orientation changes, acceleration, and both"
   ]
  },
  {
   "cell_type": "markdown",
   "metadata": {},
   "source": [
    "Set up test data from 0 to 50 seconds at 200Hz"
   ]
  },
  {
   "cell_type": "code",
   "execution_count": 12,
   "metadata": {},
   "outputs": [],
   "source": [
    "pitchvals = [0, 5, 15]        # degrees of pitch\n",
    "accelvals = [0, 0.05, 0.1, 0.2]     # gs of forward-backward acceleration\n",
    "frequencies = [0.1, 1, 2, 4]     # Hz\n",
    "phaseoff = [0, 0.2, 0.5]      # fractional phase offset between pitch and acceleration\n",
    "chip_orient = [(-85, 82, 0)]       # initial roll, pitch, yaw of chip\n",
    "\n",
    "nvals = [len(pitchvals), len(ampvals), len(frequencies), len(phaseoff), len(chip_orient)]"
   ]
  },
  {
   "cell_type": "markdown",
   "metadata": {},
   "source": [
    "All combinations of the parameters, but same noise settings"
   ]
  },
  {
   "cell_type": "code",
   "execution_count": 13,
   "metadata": {},
   "outputs": [],
   "source": [
    "imus = []\n",
    "params = []\n",
    "ampvals = []\n",
    "for p, a, f, d, o in itertools.product(pitchvals, accelvals, frequencies, phaseoff, chip_orient):\n",
    "    # print \"pitch {}, accel {}, freq {}, delta {}, orient {}\".format(p,a,f,d,o)\n",
    "    amp = 9.81 * a / (2*np.pi*f)**2\n",
    "    \n",
    "    imu1 = IMU_test_data((0, 50, 1.0/200))\n",
    "    R0 = imu1._eul2rotm(o)\n",
    "    imu1.set_initial_orientation(R0)\n",
    "    \n",
    "    imu1.set_noise_params(gyrorms=1.0,          # deg/sec\n",
    "                     gyrofreq=20.0,        # Hz\n",
    "                     gyrodriftrms=0.0,     # deg/sec\n",
    "                     gyrodriftfreq=0.1,    # Hz\n",
    "                     accrms=0.03,          # g\n",
    "                     accfreq=33)           # Hz\n",
    "    imu1.generate_arm_data(alpham=np.deg2rad(p), # pitch angle\n",
    "                      Am=a, # back and forth amplitude\n",
    "                      f=f, # oscillation frequency\n",
    "                      l=0,    # arm length\n",
    "                      delta=d) # phase lag between angle and forward back motion\n",
    "    \n",
    "    imus.append(imu1)\n",
    "    params.append((p,a,f,d,o))\n",
    "    ampvals.append(amp)"
   ]
  },
  {
   "cell_type": "heading",
   "metadata": {},
   "level": 2,
   "source": [
    "Run the algorithms"
   ]
  },
  {
   "cell_type": "code",
   "execution_count": 15,
   "metadata": {},
   "outputs": [],
   "source": [
    "def get_error(imu):\n",
    "    oerr = np.sqrt(np.mean(np.square(imu.orient_world - imu.orient_world_true), axis=0))\n",
    "    aerr = np.sqrt(np.mean(np.square(imu.accdyn_world - imu.accdyn_world_true), axis=0))\n",
    "    \n",
    "    return oerr, aerr"
   ]
  },
  {
   "cell_type": "code",
   "execution_count": 16,
   "metadata": {
    "collapsed": true
   },
   "outputs": [
    {
     "name": "stdout",
     "output_type": "stream",
     "text": [
      "dt=0.005, dur=10.0, N=10000, n=2000, nblocks=5\nnblocks=5, ymn.shape=(7, 3)\n"
     ]
    },
    {
     "name": "stdout",
     "output_type": "stream",
     "text": [
      "1 of 144 (1.0%)\n"
     ]
    },
    {
     "name": "stdout",
     "output_type": "stream",
     "text": [
      "dt=0.005, dur=10.0, N=10000, n=2000, nblocks=5\nnblocks=5, ymn.shape=(7, 3)\n"
     ]
    },
    {
     "name": "stdout",
     "output_type": "stream",
     "text": [
      "2 of 144 (1.0%)\n"
     ]
    },
    {
     "name": "stdout",
     "output_type": "stream",
     "text": [
      "dt=0.005, dur=10.0, N=10000, n=2000, nblocks=5\nnblocks=5, ymn.shape=(7, 3)\n"
     ]
    },
    {
     "name": "stdout",
     "output_type": "stream",
     "text": [
      "3 of 144 (2.0%)\n"
     ]
    },
    {
     "name": "stdout",
     "output_type": "stream",
     "text": [
      "dt=0.005, dur=10.0, N=10000, n=2000, nblocks=5\nnblocks=5, ymn.shape=(7, 3)\n"
     ]
    },
    {
     "name": "stdout",
     "output_type": "stream",
     "text": [
      "4 of 144 (3.0%)\n"
     ]
    },
    {
     "name": "stdout",
     "output_type": "stream",
     "text": [
      "dt=0.005, dur=10.0, N=10000, n=2000, nblocks=5\nnblocks=5, ymn.shape=(7, 3)\n"
     ]
    },
    {
     "name": "stdout",
     "output_type": "stream",
     "text": [
      "5 of 144 (3.0%)\n"
     ]
    },
    {
     "name": "stdout",
     "output_type": "stream",
     "text": [
      "dt=0.005, dur=10.0, N=10000, n=2000, nblocks=5\nnblocks=5, ymn.shape=(7, 3)\n"
     ]
    },
    {
     "name": "stdout",
     "output_type": "stream",
     "text": [
      "6 of 144 (4.0%)\n"
     ]
    },
    {
     "name": "stdout",
     "output_type": "stream",
     "text": [
      "dt=0.005, dur=10.0, N=10000, n=2000, nblocks=5\nnblocks=5, ymn.shape=(7, 3)\n"
     ]
    },
    {
     "name": "stdout",
     "output_type": "stream",
     "text": [
      "7 of 144 (5.0%)\n"
     ]
    },
    {
     "name": "stdout",
     "output_type": "stream",
     "text": [
      "dt=0.005, dur=10.0, N=10000, n=2000, nblocks=5\nnblocks=5, ymn.shape=(7, 3)\n"
     ]
    },
    {
     "name": "stdout",
     "output_type": "stream",
     "text": [
      "8 of 144 (6.0%)\n"
     ]
    },
    {
     "name": "stdout",
     "output_type": "stream",
     "text": [
      "dt=0.005, dur=10.0, N=10000, n=2000, nblocks=5\nnblocks=5, ymn.shape=(7, 3)\n"
     ]
    },
    {
     "name": "stdout",
     "output_type": "stream",
     "text": [
      "9 of 144 (6.0%)\n"
     ]
    },
    {
     "name": "stdout",
     "output_type": "stream",
     "text": [
      "dt=0.005, dur=10.0, N=10000, n=2000, nblocks=5\nnblocks=5, ymn.shape=(7, 3)\n"
     ]
    },
    {
     "name": "stdout",
     "output_type": "stream",
     "text": [
      "10 of 144 (7.0%)\n"
     ]
    },
    {
     "name": "stdout",
     "output_type": "stream",
     "text": [
      "dt=0.005, dur=10.0, N=10000, n=2000, nblocks=5\nnblocks=5, ymn.shape=(7, 3)\n"
     ]
    },
    {
     "name": "stdout",
     "output_type": "stream",
     "text": [
      "11 of 144 (8.0%)\n"
     ]
    },
    {
     "name": "stdout",
     "output_type": "stream",
     "text": [
      "dt=0.005, dur=10.0, N=10000, n=2000, nblocks=5\nnblocks=5, ymn.shape=(7, 3)\n"
     ]
    },
    {
     "name": "stdout",
     "output_type": "stream",
     "text": [
      "12 of 144 (8.0%)\n"
     ]
    },
    {
     "name": "stdout",
     "output_type": "stream",
     "text": [
      "dt=0.005, dur=10.0, N=10000, n=2000, nblocks=5\nnblocks=5, ymn.shape=(7, 3)\n"
     ]
    },
    {
     "name": "stdout",
     "output_type": "stream",
     "text": [
      "13 of 144 (9.0%)\n"
     ]
    },
    {
     "name": "stdout",
     "output_type": "stream",
     "text": [
      "dt=0.005, dur=10.0, N=10000, n=2000, nblocks=5\nnblocks=5, ymn.shape=(7, 3)\n"
     ]
    },
    {
     "name": "stdout",
     "output_type": "stream",
     "text": [
      "14 of 144 (10.0%)\n"
     ]
    },
    {
     "name": "stdout",
     "output_type": "stream",
     "text": [
      "dt=0.005, dur=10.0, N=10000, n=2000, nblocks=5\nnblocks=5, ymn.shape=(7, 3)\n"
     ]
    },
    {
     "name": "stdout",
     "output_type": "stream",
     "text": [
      "15 of 144 (10.0%)\n"
     ]
    },
    {
     "name": "stdout",
     "output_type": "stream",
     "text": [
      "dt=0.005, dur=10.0, N=10000, n=2000, nblocks=5\nnblocks=5, ymn.shape=(7, 3)\n"
     ]
    },
    {
     "name": "stdout",
     "output_type": "stream",
     "text": [
      "16 of 144 (11.0%)\n"
     ]
    },
    {
     "name": "stdout",
     "output_type": "stream",
     "text": [
      "dt=0.005, dur=10.0, N=10000, n=2000, nblocks=5\nnblocks=5, ymn.shape=(7, 3)\n"
     ]
    },
    {
     "name": "stdout",
     "output_type": "stream",
     "text": [
      "17 of 144 (12.0%)\n"
     ]
    },
    {
     "name": "stdout",
     "output_type": "stream",
     "text": [
      "dt=0.005, dur=10.0, N=10000, n=2000, nblocks=5\nnblocks=5, ymn.shape=(7, 3)\n"
     ]
    },
    {
     "name": "stdout",
     "output_type": "stream",
     "text": [
      "18 of 144 (13.0%)\n"
     ]
    },
    {
     "name": "stdout",
     "output_type": "stream",
     "text": [
      "dt=0.005, dur=10.0, N=10000, n=2000, nblocks=5\nnblocks=5, ymn.shape=(7, 3)\n"
     ]
    },
    {
     "name": "stdout",
     "output_type": "stream",
     "text": [
      "19 of 144 (13.0%)\n"
     ]
    },
    {
     "name": "stdout",
     "output_type": "stream",
     "text": [
      "dt=0.005, dur=10.0, N=10000, n=2000, nblocks=5\nnblocks=5, ymn.shape=(7, 3)\n"
     ]
    },
    {
     "name": "stdout",
     "output_type": "stream",
     "text": [
      "20 of 144 (14.0%)\n"
     ]
    },
    {
     "name": "stdout",
     "output_type": "stream",
     "text": [
      "dt=0.005, dur=10.0, N=10000, n=2000, nblocks=5\nnblocks=5, ymn.shape=(7, 3)\n"
     ]
    },
    {
     "name": "stdout",
     "output_type": "stream",
     "text": [
      "21 of 144 (15.0%)\n"
     ]
    },
    {
     "name": "stdout",
     "output_type": "stream",
     "text": [
      "dt=0.005, dur=10.0, N=10000, n=2000, nblocks=5\nnblocks=5, ymn.shape=(7, 3)\n"
     ]
    },
    {
     "name": "stdout",
     "output_type": "stream",
     "text": [
      "22 of 144 (15.0%)\n"
     ]
    },
    {
     "name": "stdout",
     "output_type": "stream",
     "text": [
      "dt=0.005, dur=10.0, N=10000, n=2000, nblocks=5\nnblocks=5, ymn.shape=(7, 3)\n"
     ]
    },
    {
     "name": "stdout",
     "output_type": "stream",
     "text": [
      "23 of 144 (16.0%)\n"
     ]
    },
    {
     "name": "stdout",
     "output_type": "stream",
     "text": [
      "dt=0.005, dur=10.0, N=10000, n=2000, nblocks=5\nnblocks=5, ymn.shape=(7, 3)\n"
     ]
    },
    {
     "name": "stdout",
     "output_type": "stream",
     "text": [
      "24 of 144 (17.0%)\n"
     ]
    },
    {
     "name": "stdout",
     "output_type": "stream",
     "text": [
      "dt=0.005, dur=10.0, N=10000, n=2000, nblocks=5\nnblocks=5, ymn.shape=(7, 3)\n"
     ]
    },
    {
     "name": "stdout",
     "output_type": "stream",
     "text": [
      "25 of 144 (17.0%)\n"
     ]
    },
    {
     "name": "stdout",
     "output_type": "stream",
     "text": [
      "dt=0.005, dur=10.0, N=10000, n=2000, nblocks=5\nnblocks=5, ymn.shape=(7, 3)\n"
     ]
    },
    {
     "name": "stdout",
     "output_type": "stream",
     "text": [
      "26 of 144 (18.0%)\n"
     ]
    },
    {
     "name": "stdout",
     "output_type": "stream",
     "text": [
      "dt=0.005, dur=10.0, N=10000, n=2000, nblocks=5\nnblocks=5, ymn.shape=(7, 3)\n"
     ]
    },
    {
     "name": "stdout",
     "output_type": "stream",
     "text": [
      "27 of 144 (19.0%)\n"
     ]
    },
    {
     "name": "stdout",
     "output_type": "stream",
     "text": [
      "dt=0.005, dur=10.0, N=10000, n=2000, nblocks=5\nnblocks=5, ymn.shape=(7, 3)\n"
     ]
    },
    {
     "name": "stdout",
     "output_type": "stream",
     "text": [
      "28 of 144 (19.0%)\n"
     ]
    },
    {
     "name": "stdout",
     "output_type": "stream",
     "text": [
      "dt=0.005, dur=10.0, N=10000, n=2000, nblocks=5\nnblocks=5, ymn.shape=(7, 3)\n"
     ]
    },
    {
     "name": "stdout",
     "output_type": "stream",
     "text": [
      "29 of 144 (20.0%)\n"
     ]
    },
    {
     "name": "stdout",
     "output_type": "stream",
     "text": [
      "dt=0.005, dur=10.0, N=10000, n=2000, nblocks=5\nnblocks=5, ymn.shape=(7, 3)\n"
     ]
    },
    {
     "name": "stdout",
     "output_type": "stream",
     "text": [
      "30 of 144 (21.0%)\n"
     ]
    },
    {
     "name": "stdout",
     "output_type": "stream",
     "text": [
      "dt=0.005, dur=10.0, N=10000, n=2000, nblocks=5\nnblocks=5, ymn.shape=(7, 3)\n"
     ]
    },
    {
     "name": "stdout",
     "output_type": "stream",
     "text": [
      "31 of 144 (22.0%)\n"
     ]
    },
    {
     "name": "stdout",
     "output_type": "stream",
     "text": [
      "dt=0.005, dur=10.0, N=10000, n=2000, nblocks=5\nnblocks=5, ymn.shape=(7, 3)\n"
     ]
    },
    {
     "name": "stdout",
     "output_type": "stream",
     "text": [
      "32 of 144 (22.0%)\n"
     ]
    },
    {
     "name": "stdout",
     "output_type": "stream",
     "text": [
      "dt=0.005, dur=10.0, N=10000, n=2000, nblocks=5\nnblocks=5, ymn.shape=(7, 3)\n"
     ]
    },
    {
     "name": "stdout",
     "output_type": "stream",
     "text": [
      "33 of 144 (23.0%)\n"
     ]
    },
    {
     "name": "stdout",
     "output_type": "stream",
     "text": [
      "dt=0.005, dur=10.0, N=10000, n=2000, nblocks=5\nnblocks=5, ymn.shape=(7, 3)\n"
     ]
    },
    {
     "name": "stdout",
     "output_type": "stream",
     "text": [
      "34 of 144 (24.0%)\n"
     ]
    },
    {
     "name": "stdout",
     "output_type": "stream",
     "text": [
      "dt=0.005, dur=10.0, N=10000, n=2000, nblocks=5\nnblocks=5, ymn.shape=(7, 3)\n"
     ]
    },
    {
     "name": "stdout",
     "output_type": "stream",
     "text": [
      "35 of 144 (24.0%)\n"
     ]
    },
    {
     "name": "stdout",
     "output_type": "stream",
     "text": [
      "dt=0.005, dur=10.0, N=10000, n=2000, nblocks=5\nnblocks=5, ymn.shape=(7, 3)\n"
     ]
    },
    {
     "name": "stdout",
     "output_type": "stream",
     "text": [
      "36 of 144 (25.0%)\n"
     ]
    },
    {
     "name": "stdout",
     "output_type": "stream",
     "text": [
      "dt=0.005, dur=10.0, N=10000, n=2000, nblocks=5\nnblocks=5, ymn.shape=(7, 3)\n"
     ]
    },
    {
     "name": "stdout",
     "output_type": "stream",
     "text": [
      "37 of 144 (26.0%)\n"
     ]
    },
    {
     "name": "stdout",
     "output_type": "stream",
     "text": [
      "dt=0.005, dur=10.0, N=10000, n=2000, nblocks=5\nnblocks=5, ymn.shape=(7, 3)\n"
     ]
    },
    {
     "name": "stdout",
     "output_type": "stream",
     "text": [
      "38 of 144 (26.0%)\n"
     ]
    },
    {
     "name": "stdout",
     "output_type": "stream",
     "text": [
      "dt=0.005, dur=10.0, N=10000, n=2000, nblocks=5\nnblocks=5, ymn.shape=(7, 3)\n"
     ]
    },
    {
     "name": "stdout",
     "output_type": "stream",
     "text": [
      "39 of 144 (27.0%)\n"
     ]
    },
    {
     "name": "stdout",
     "output_type": "stream",
     "text": [
      "dt=0.005, dur=10.0, N=10000, n=2000, nblocks=5\nnblocks=5, ymn.shape=(7, 3)\n"
     ]
    },
    {
     "name": "stdout",
     "output_type": "stream",
     "text": [
      "40 of 144 (28.0%)\n"
     ]
    },
    {
     "name": "stdout",
     "output_type": "stream",
     "text": [
      "dt=0.005, dur=10.0, N=10000, n=2000, nblocks=5\nnblocks=5, ymn.shape=(7, 3)\n"
     ]
    },
    {
     "name": "stdout",
     "output_type": "stream",
     "text": [
      "41 of 144 (28.0%)\n"
     ]
    },
    {
     "name": "stdout",
     "output_type": "stream",
     "text": [
      "dt=0.005, dur=10.0, N=10000, n=2000, nblocks=5\nnblocks=5, ymn.shape=(7, 3)\n"
     ]
    },
    {
     "name": "stdout",
     "output_type": "stream",
     "text": [
      "42 of 144 (29.0%)\n"
     ]
    },
    {
     "name": "stdout",
     "output_type": "stream",
     "text": [
      "dt=0.005, dur=10.0, N=10000, n=2000, nblocks=5\nnblocks=5, ymn.shape=(7, 3)\n"
     ]
    },
    {
     "name": "stdout",
     "output_type": "stream",
     "text": [
      "43 of 144 (30.0%)\n"
     ]
    },
    {
     "name": "stdout",
     "output_type": "stream",
     "text": [
      "dt=0.005, dur=10.0, N=10000, n=2000, nblocks=5\nnblocks=5, ymn.shape=(7, 3)\n"
     ]
    },
    {
     "name": "stdout",
     "output_type": "stream",
     "text": [
      "44 of 144 (31.0%)\n"
     ]
    },
    {
     "name": "stdout",
     "output_type": "stream",
     "text": [
      "dt=0.005, dur=10.0, N=10000, n=2000, nblocks=5\nnblocks=5, ymn.shape=(7, 3)\n"
     ]
    },
    {
     "name": "stdout",
     "output_type": "stream",
     "text": [
      "45 of 144 (31.0%)\n"
     ]
    },
    {
     "name": "stdout",
     "output_type": "stream",
     "text": [
      "dt=0.005, dur=10.0, N=10000, n=2000, nblocks=5\nnblocks=5, ymn.shape=(7, 3)\n"
     ]
    },
    {
     "name": "stdout",
     "output_type": "stream",
     "text": [
      "46 of 144 (32.0%)\n"
     ]
    },
    {
     "name": "stdout",
     "output_type": "stream",
     "text": [
      "dt=0.005, dur=10.0, N=10000, n=2000, nblocks=5\nnblocks=5, ymn.shape=(7, 3)\n"
     ]
    },
    {
     "name": "stdout",
     "output_type": "stream",
     "text": [
      "47 of 144 (33.0%)\n"
     ]
    },
    {
     "name": "stdout",
     "output_type": "stream",
     "text": [
      "dt=0.005, dur=10.0, N=10000, n=2000, nblocks=5\nnblocks=5, ymn.shape=(7, 3)\n"
     ]
    },
    {
     "name": "stdout",
     "output_type": "stream",
     "text": [
      "48 of 144 (33.0%)\n"
     ]
    },
    {
     "name": "stdout",
     "output_type": "stream",
     "text": [
      "dt=0.005, dur=10.0, N=10000, n=2000, nblocks=5\nnblocks=5, ymn.shape=(7, 3)\n"
     ]
    },
    {
     "name": "stdout",
     "output_type": "stream",
     "text": [
      "49 of 144 (34.0%)\n"
     ]
    },
    {
     "name": "stdout",
     "output_type": "stream",
     "text": [
      "dt=0.005, dur=10.0, N=10000, n=2000, nblocks=5\nnblocks=5, ymn.shape=(7, 3)\n"
     ]
    },
    {
     "name": "stdout",
     "output_type": "stream",
     "text": [
      "50 of 144 (35.0%)\n"
     ]
    },
    {
     "name": "stdout",
     "output_type": "stream",
     "text": [
      "dt=0.005, dur=10.0, N=10000, n=2000, nblocks=5\nnblocks=5, ymn.shape=(7, 3)\n"
     ]
    },
    {
     "name": "stdout",
     "output_type": "stream",
     "text": [
      "51 of 144 (35.0%)\n"
     ]
    },
    {
     "name": "stdout",
     "output_type": "stream",
     "text": [
      "dt=0.005, dur=10.0, N=10000, n=2000, nblocks=5\nnblocks=5, ymn.shape=(7, 3)\n"
     ]
    },
    {
     "name": "stdout",
     "output_type": "stream",
     "text": [
      "52 of 144 (36.0%)\n"
     ]
    },
    {
     "name": "stdout",
     "output_type": "stream",
     "text": [
      "dt=0.005, dur=10.0, N=10000, n=2000, nblocks=5\nnblocks=5, ymn.shape=(7, 3)\n"
     ]
    },
    {
     "name": "stdout",
     "output_type": "stream",
     "text": [
      "53 of 144 (37.0%)\n"
     ]
    },
    {
     "name": "stdout",
     "output_type": "stream",
     "text": [
      "dt=0.005, dur=10.0, N=10000, n=2000, nblocks=5\nnblocks=5, ymn.shape=(7, 3)\n"
     ]
    },
    {
     "name": "stdout",
     "output_type": "stream",
     "text": [
      "54 of 144 (38.0%)\n"
     ]
    },
    {
     "name": "stdout",
     "output_type": "stream",
     "text": [
      "dt=0.005, dur=10.0, N=10000, n=2000, nblocks=5\nnblocks=5, ymn.shape=(7, 3)\n"
     ]
    },
    {
     "name": "stdout",
     "output_type": "stream",
     "text": [
      "55 of 144 (38.0%)\n"
     ]
    },
    {
     "name": "stdout",
     "output_type": "stream",
     "text": [
      "dt=0.005, dur=10.0, N=10000, n=2000, nblocks=5\nnblocks=5, ymn.shape=(7, 3)\n"
     ]
    },
    {
     "name": "stdout",
     "output_type": "stream",
     "text": [
      "56 of 144 (39.0%)\n"
     ]
    },
    {
     "name": "stdout",
     "output_type": "stream",
     "text": [
      "dt=0.005, dur=10.0, N=10000, n=2000, nblocks=5\nnblocks=5, ymn.shape=(7, 3)\n"
     ]
    },
    {
     "name": "stdout",
     "output_type": "stream",
     "text": [
      "57 of 144 (40.0%)\n"
     ]
    },
    {
     "name": "stdout",
     "output_type": "stream",
     "text": [
      "dt=0.005, dur=10.0, N=10000, n=2000, nblocks=5\nnblocks=5, ymn.shape=(7, 3)\n"
     ]
    },
    {
     "name": "stdout",
     "output_type": "stream",
     "text": [
      "58 of 144 (40.0%)\n"
     ]
    },
    {
     "name": "stdout",
     "output_type": "stream",
     "text": [
      "dt=0.005, dur=10.0, N=10000, n=2000, nblocks=5\nnblocks=5, ymn.shape=(7, 3)\n"
     ]
    },
    {
     "name": "stdout",
     "output_type": "stream",
     "text": [
      "59 of 144 (41.0%)\n"
     ]
    },
    {
     "name": "stdout",
     "output_type": "stream",
     "text": [
      "dt=0.005, dur=10.0, N=10000, n=2000, nblocks=5\nnblocks=5, ymn.shape=(7, 3)\n"
     ]
    },
    {
     "name": "stdout",
     "output_type": "stream",
     "text": [
      "60 of 144 (42.0%)\n"
     ]
    },
    {
     "name": "stdout",
     "output_type": "stream",
     "text": [
      "dt=0.005, dur=10.0, N=10000, n=2000, nblocks=5\nnblocks=5, ymn.shape=(7, 3)\n"
     ]
    },
    {
     "name": "stdout",
     "output_type": "stream",
     "text": [
      "61 of 144 (42.0%)\n"
     ]
    },
    {
     "name": "stdout",
     "output_type": "stream",
     "text": [
      "dt=0.005, dur=10.0, N=10000, n=2000, nblocks=5\nnblocks=5, ymn.shape=(7, 3)\n"
     ]
    },
    {
     "name": "stdout",
     "output_type": "stream",
     "text": [
      "62 of 144 (43.0%)\n"
     ]
    },
    {
     "name": "stdout",
     "output_type": "stream",
     "text": [
      "dt=0.005, dur=10.0, N=10000, n=2000, nblocks=5\nnblocks=5, ymn.shape=(7, 3)\n"
     ]
    },
    {
     "name": "stdout",
     "output_type": "stream",
     "text": [
      "63 of 144 (44.0%)\n"
     ]
    },
    {
     "name": "stdout",
     "output_type": "stream",
     "text": [
      "dt=0.005, dur=10.0, N=10000, n=2000, nblocks=5\nnblocks=5, ymn.shape=(7, 3)\n"
     ]
    },
    {
     "name": "stdout",
     "output_type": "stream",
     "text": [
      "64 of 144 (44.0%)\n"
     ]
    },
    {
     "name": "stdout",
     "output_type": "stream",
     "text": [
      "dt=0.005, dur=10.0, N=10000, n=2000, nblocks=5\nnblocks=5, ymn.shape=(7, 3)\n"
     ]
    },
    {
     "name": "stdout",
     "output_type": "stream",
     "text": [
      "65 of 144 (45.0%)\n"
     ]
    },
    {
     "name": "stdout",
     "output_type": "stream",
     "text": [
      "dt=0.005, dur=10.0, N=10000, n=2000, nblocks=5\nnblocks=5, ymn.shape=(7, 3)\n"
     ]
    },
    {
     "name": "stdout",
     "output_type": "stream",
     "text": [
      "66 of 144 (46.0%)\n"
     ]
    },
    {
     "name": "stdout",
     "output_type": "stream",
     "text": [
      "dt=0.005, dur=10.0, N=10000, n=2000, nblocks=5\nnblocks=5, ymn.shape=(7, 3)\n"
     ]
    },
    {
     "name": "stdout",
     "output_type": "stream",
     "text": [
      "67 of 144 (47.0%)\n"
     ]
    },
    {
     "name": "stdout",
     "output_type": "stream",
     "text": [
      "dt=0.005, dur=10.0, N=10000, n=2000, nblocks=5\nnblocks=5, ymn.shape=(7, 3)\n"
     ]
    },
    {
     "name": "stdout",
     "output_type": "stream",
     "text": [
      "68 of 144 (47.0%)\n"
     ]
    },
    {
     "name": "stdout",
     "output_type": "stream",
     "text": [
      "dt=0.005, dur=10.0, N=10000, n=2000, nblocks=5\nnblocks=5, ymn.shape=(7, 3)\n"
     ]
    },
    {
     "name": "stdout",
     "output_type": "stream",
     "text": [
      "69 of 144 (48.0%)\n"
     ]
    },
    {
     "name": "stdout",
     "output_type": "stream",
     "text": [
      "dt=0.005, dur=10.0, N=10000, n=2000, nblocks=5\nnblocks=5, ymn.shape=(7, 3)\n"
     ]
    },
    {
     "name": "stdout",
     "output_type": "stream",
     "text": [
      "70 of 144 (49.0%)\n"
     ]
    },
    {
     "name": "stdout",
     "output_type": "stream",
     "text": [
      "dt=0.005, dur=10.0, N=10000, n=2000, nblocks=5\nnblocks=5, ymn.shape=(7, 3)\n"
     ]
    },
    {
     "name": "stdout",
     "output_type": "stream",
     "text": [
      "71 of 144 (49.0%)\n"
     ]
    },
    {
     "name": "stdout",
     "output_type": "stream",
     "text": [
      "dt=0.005, dur=10.0, N=10000, n=2000, nblocks=5\nnblocks=5, ymn.shape=(7, 3)\n"
     ]
    },
    {
     "name": "stdout",
     "output_type": "stream",
     "text": [
      "72 of 144 (50.0%)\n"
     ]
    },
    {
     "name": "stdout",
     "output_type": "stream",
     "text": [
      "dt=0.005, dur=10.0, N=10000, n=2000, nblocks=5\nnblocks=5, ymn.shape=(7, 3)\n"
     ]
    },
    {
     "name": "stdout",
     "output_type": "stream",
     "text": [
      "73 of 144 (51.0%)\n"
     ]
    },
    {
     "name": "stdout",
     "output_type": "stream",
     "text": [
      "dt=0.005, dur=10.0, N=10000, n=2000, nblocks=5\nnblocks=5, ymn.shape=(7, 3)\n"
     ]
    },
    {
     "name": "stdout",
     "output_type": "stream",
     "text": [
      "74 of 144 (51.0%)\n"
     ]
    },
    {
     "name": "stdout",
     "output_type": "stream",
     "text": [
      "dt=0.005, dur=10.0, N=10000, n=2000, nblocks=5\nnblocks=5, ymn.shape=(7, 3)\n"
     ]
    },
    {
     "name": "stdout",
     "output_type": "stream",
     "text": [
      "75 of 144 (52.0%)\n"
     ]
    },
    {
     "name": "stdout",
     "output_type": "stream",
     "text": [
      "dt=0.005, dur=10.0, N=10000, n=2000, nblocks=5\nnblocks=5, ymn.shape=(7, 3)\n"
     ]
    },
    {
     "name": "stdout",
     "output_type": "stream",
     "text": [
      "76 of 144 (53.0%)\n"
     ]
    },
    {
     "name": "stdout",
     "output_type": "stream",
     "text": [
      "dt=0.005, dur=10.0, N=10000, n=2000, nblocks=5\nnblocks=5, ymn.shape=(7, 3)\n"
     ]
    },
    {
     "name": "stdout",
     "output_type": "stream",
     "text": [
      "77 of 144 (53.0%)\n"
     ]
    },
    {
     "name": "stdout",
     "output_type": "stream",
     "text": [
      "dt=0.005, dur=10.0, N=10000, n=2000, nblocks=5\nnblocks=5, ymn.shape=(7, 3)\n"
     ]
    },
    {
     "name": "stdout",
     "output_type": "stream",
     "text": [
      "78 of 144 (54.0%)\n"
     ]
    },
    {
     "name": "stdout",
     "output_type": "stream",
     "text": [
      "dt=0.005, dur=10.0, N=10000, n=2000, nblocks=5\nnblocks=5, ymn.shape=(7, 3)\n"
     ]
    },
    {
     "name": "stdout",
     "output_type": "stream",
     "text": [
      "79 of 144 (55.0%)\n"
     ]
    },
    {
     "name": "stdout",
     "output_type": "stream",
     "text": [
      "dt=0.005, dur=10.0, N=10000, n=2000, nblocks=5\nnblocks=5, ymn.shape=(7, 3)\n"
     ]
    },
    {
     "name": "stdout",
     "output_type": "stream",
     "text": [
      "80 of 144 (56.0%)\n"
     ]
    },
    {
     "name": "stdout",
     "output_type": "stream",
     "text": [
      "dt=0.005, dur=10.0, N=10000, n=2000, nblocks=5\nnblocks=5, ymn.shape=(7, 3)\n"
     ]
    },
    {
     "name": "stdout",
     "output_type": "stream",
     "text": [
      "81 of 144 (56.0%)\n"
     ]
    },
    {
     "name": "stdout",
     "output_type": "stream",
     "text": [
      "dt=0.005, dur=10.0, N=10000, n=2000, nblocks=5\nnblocks=5, ymn.shape=(7, 3)\n"
     ]
    },
    {
     "name": "stdout",
     "output_type": "stream",
     "text": [
      "82 of 144 (57.0%)\n"
     ]
    },
    {
     "name": "stdout",
     "output_type": "stream",
     "text": [
      "dt=0.005, dur=10.0, N=10000, n=2000, nblocks=5\nnblocks=5, ymn.shape=(7, 3)\n"
     ]
    },
    {
     "name": "stdout",
     "output_type": "stream",
     "text": [
      "83 of 144 (58.0%)\n"
     ]
    },
    {
     "name": "stdout",
     "output_type": "stream",
     "text": [
      "dt=0.005, dur=10.0, N=10000, n=2000, nblocks=5\nnblocks=5, ymn.shape=(7, 3)\n"
     ]
    },
    {
     "name": "stdout",
     "output_type": "stream",
     "text": [
      "84 of 144 (58.0%)\n"
     ]
    },
    {
     "name": "stdout",
     "output_type": "stream",
     "text": [
      "dt=0.005, dur=10.0, N=10000, n=2000, nblocks=5\nnblocks=5, ymn.shape=(7, 3)\n"
     ]
    },
    {
     "name": "stdout",
     "output_type": "stream",
     "text": [
      "85 of 144 (59.0%)\n"
     ]
    },
    {
     "name": "stdout",
     "output_type": "stream",
     "text": [
      "dt=0.005, dur=10.0, N=10000, n=2000, nblocks=5\nnblocks=5, ymn.shape=(7, 3)\n"
     ]
    },
    {
     "name": "stdout",
     "output_type": "stream",
     "text": [
      "86 of 144 (60.0%)\n"
     ]
    },
    {
     "name": "stdout",
     "output_type": "stream",
     "text": [
      "dt=0.005, dur=10.0, N=10000, n=2000, nblocks=5\nnblocks=5, ymn.shape=(7, 3)\n"
     ]
    },
    {
     "name": "stdout",
     "output_type": "stream",
     "text": [
      "87 of 144 (60.0%)\n"
     ]
    },
    {
     "name": "stdout",
     "output_type": "stream",
     "text": [
      "dt=0.005, dur=10.0, N=10000, n=2000, nblocks=5\nnblocks=5, ymn.shape=(7, 3)\n"
     ]
    },
    {
     "name": "stdout",
     "output_type": "stream",
     "text": [
      "88 of 144 (61.0%)\n"
     ]
    },
    {
     "name": "stdout",
     "output_type": "stream",
     "text": [
      "dt=0.005, dur=10.0, N=10000, n=2000, nblocks=5\nnblocks=5, ymn.shape=(7, 3)\n"
     ]
    },
    {
     "name": "stdout",
     "output_type": "stream",
     "text": [
      "89 of 144 (62.0%)\n"
     ]
    },
    {
     "name": "stdout",
     "output_type": "stream",
     "text": [
      "dt=0.005, dur=10.0, N=10000, n=2000, nblocks=5\nnblocks=5, ymn.shape=(7, 3)\n"
     ]
    },
    {
     "name": "stdout",
     "output_type": "stream",
     "text": [
      "90 of 144 (63.0%)\n"
     ]
    },
    {
     "name": "stdout",
     "output_type": "stream",
     "text": [
      "dt=0.005, dur=10.0, N=10000, n=2000, nblocks=5\nnblocks=5, ymn.shape=(7, 3)\n"
     ]
    },
    {
     "name": "stdout",
     "output_type": "stream",
     "text": [
      "91 of 144 (63.0%)\n"
     ]
    },
    {
     "name": "stdout",
     "output_type": "stream",
     "text": [
      "dt=0.005, dur=10.0, N=10000, n=2000, nblocks=5\nnblocks=5, ymn.shape=(7, 3)\n"
     ]
    },
    {
     "name": "stdout",
     "output_type": "stream",
     "text": [
      "92 of 144 (64.0%)\n"
     ]
    },
    {
     "name": "stdout",
     "output_type": "stream",
     "text": [
      "dt=0.005, dur=10.0, N=10000, n=2000, nblocks=5\nnblocks=5, ymn.shape=(7, 3)\n"
     ]
    },
    {
     "name": "stdout",
     "output_type": "stream",
     "text": [
      "93 of 144 (65.0%)\n"
     ]
    },
    {
     "name": "stdout",
     "output_type": "stream",
     "text": [
      "dt=0.005, dur=10.0, N=10000, n=2000, nblocks=5\nnblocks=5, ymn.shape=(7, 3)\n"
     ]
    },
    {
     "name": "stdout",
     "output_type": "stream",
     "text": [
      "94 of 144 (65.0%)\n"
     ]
    },
    {
     "name": "stdout",
     "output_type": "stream",
     "text": [
      "dt=0.005, dur=10.0, N=10000, n=2000, nblocks=5\nnblocks=5, ymn.shape=(7, 3)\n"
     ]
    },
    {
     "name": "stdout",
     "output_type": "stream",
     "text": [
      "95 of 144 (66.0%)\n"
     ]
    },
    {
     "name": "stdout",
     "output_type": "stream",
     "text": [
      "dt=0.005, dur=10.0, N=10000, n=2000, nblocks=5\nnblocks=5, ymn.shape=(7, 3)\n"
     ]
    },
    {
     "name": "stdout",
     "output_type": "stream",
     "text": [
      "96 of 144 (67.0%)\n"
     ]
    },
    {
     "name": "stdout",
     "output_type": "stream",
     "text": [
      "dt=0.005, dur=10.0, N=10000, n=2000, nblocks=5\nnblocks=5, ymn.shape=(7, 3)\n"
     ]
    },
    {
     "name": "stdout",
     "output_type": "stream",
     "text": [
      "97 of 144 (67.0%)\n"
     ]
    },
    {
     "name": "stdout",
     "output_type": "stream",
     "text": [
      "dt=0.005, dur=10.0, N=10000, n=2000, nblocks=5\nnblocks=5, ymn.shape=(7, 3)\n"
     ]
    },
    {
     "name": "stdout",
     "output_type": "stream",
     "text": [
      "98 of 144 (68.0%)\n"
     ]
    },
    {
     "name": "stdout",
     "output_type": "stream",
     "text": [
      "dt=0.005, dur=10.0, N=10000, n=2000, nblocks=5\nnblocks=5, ymn.shape=(7, 3)\n"
     ]
    },
    {
     "name": "stdout",
     "output_type": "stream",
     "text": [
      "99 of 144 (69.0%)\n"
     ]
    },
    {
     "name": "stdout",
     "output_type": "stream",
     "text": [
      "dt=0.005, dur=10.0, N=10000, n=2000, nblocks=5\nnblocks=5, ymn.shape=(7, 3)\n"
     ]
    },
    {
     "name": "stdout",
     "output_type": "stream",
     "text": [
      "100 of 144 (69.0%)\n"
     ]
    },
    {
     "name": "stdout",
     "output_type": "stream",
     "text": [
      "dt=0.005, dur=10.0, N=10000, n=2000, nblocks=5\nnblocks=5, ymn.shape=(7, 3)\n"
     ]
    },
    {
     "name": "stdout",
     "output_type": "stream",
     "text": [
      "101 of 144 (70.0%)\n"
     ]
    },
    {
     "name": "stdout",
     "output_type": "stream",
     "text": [
      "dt=0.005, dur=10.0, N=10000, n=2000, nblocks=5\nnblocks=5, ymn.shape=(7, 3)\n"
     ]
    },
    {
     "name": "stdout",
     "output_type": "stream",
     "text": [
      "102 of 144 (71.0%)\n"
     ]
    },
    {
     "name": "stdout",
     "output_type": "stream",
     "text": [
      "dt=0.005, dur=10.0, N=10000, n=2000, nblocks=5\nnblocks=5, ymn.shape=(7, 3)\n"
     ]
    },
    {
     "name": "stdout",
     "output_type": "stream",
     "text": [
      "103 of 144 (72.0%)\n"
     ]
    },
    {
     "name": "stdout",
     "output_type": "stream",
     "text": [
      "dt=0.005, dur=10.0, N=10000, n=2000, nblocks=5\nnblocks=5, ymn.shape=(7, 3)\n"
     ]
    },
    {
     "name": "stdout",
     "output_type": "stream",
     "text": [
      "104 of 144 (72.0%)\n"
     ]
    },
    {
     "name": "stdout",
     "output_type": "stream",
     "text": [
      "dt=0.005, dur=10.0, N=10000, n=2000, nblocks=5\nnblocks=5, ymn.shape=(7, 3)\n"
     ]
    },
    {
     "name": "stdout",
     "output_type": "stream",
     "text": [
      "105 of 144 (73.0%)\n"
     ]
    },
    {
     "name": "stdout",
     "output_type": "stream",
     "text": [
      "dt=0.005, dur=10.0, N=10000, n=2000, nblocks=5\nnblocks=5, ymn.shape=(7, 3)\n"
     ]
    },
    {
     "name": "stdout",
     "output_type": "stream",
     "text": [
      "106 of 144 (74.0%)\n"
     ]
    },
    {
     "name": "stdout",
     "output_type": "stream",
     "text": [
      "dt=0.005, dur=10.0, N=10000, n=2000, nblocks=5\nnblocks=5, ymn.shape=(7, 3)\n"
     ]
    },
    {
     "name": "stdout",
     "output_type": "stream",
     "text": [
      "107 of 144 (74.0%)\n"
     ]
    },
    {
     "name": "stdout",
     "output_type": "stream",
     "text": [
      "dt=0.005, dur=10.0, N=10000, n=2000, nblocks=5\nnblocks=5, ymn.shape=(7, 3)\n"
     ]
    },
    {
     "name": "stdout",
     "output_type": "stream",
     "text": [
      "108 of 144 (75.0%)\n"
     ]
    },
    {
     "name": "stdout",
     "output_type": "stream",
     "text": [
      "dt=0.005, dur=10.0, N=10000, n=2000, nblocks=5\nnblocks=5, ymn.shape=(7, 3)\n"
     ]
    },
    {
     "name": "stdout",
     "output_type": "stream",
     "text": [
      "109 of 144 (76.0%)\n"
     ]
    },
    {
     "name": "stdout",
     "output_type": "stream",
     "text": [
      "dt=0.005, dur=10.0, N=10000, n=2000, nblocks=5\nnblocks=5, ymn.shape=(7, 3)\n"
     ]
    },
    {
     "name": "stdout",
     "output_type": "stream",
     "text": [
      "110 of 144 (76.0%)\n"
     ]
    },
    {
     "name": "stdout",
     "output_type": "stream",
     "text": [
      "dt=0.005, dur=10.0, N=10000, n=2000, nblocks=5\nnblocks=5, ymn.shape=(7, 3)\n"
     ]
    },
    {
     "name": "stdout",
     "output_type": "stream",
     "text": [
      "111 of 144 (77.0%)\n"
     ]
    },
    {
     "name": "stdout",
     "output_type": "stream",
     "text": [
      "dt=0.005, dur=10.0, N=10000, n=2000, nblocks=5\nnblocks=5, ymn.shape=(7, 3)\n"
     ]
    },
    {
     "name": "stdout",
     "output_type": "stream",
     "text": [
      "112 of 144 (78.0%)\n"
     ]
    },
    {
     "name": "stdout",
     "output_type": "stream",
     "text": [
      "dt=0.005, dur=10.0, N=10000, n=2000, nblocks=5\nnblocks=5, ymn.shape=(7, 3)\n"
     ]
    },
    {
     "name": "stdout",
     "output_type": "stream",
     "text": [
      "113 of 144 (78.0%)\n"
     ]
    },
    {
     "name": "stdout",
     "output_type": "stream",
     "text": [
      "dt=0.005, dur=10.0, N=10000, n=2000, nblocks=5\nnblocks=5, ymn.shape=(7, 3)\n"
     ]
    },
    {
     "name": "stdout",
     "output_type": "stream",
     "text": [
      "114 of 144 (79.0%)\n"
     ]
    },
    {
     "name": "stdout",
     "output_type": "stream",
     "text": [
      "dt=0.005, dur=10.0, N=10000, n=2000, nblocks=5\nnblocks=5, ymn.shape=(7, 3)\n"
     ]
    },
    {
     "name": "stdout",
     "output_type": "stream",
     "text": [
      "115 of 144 (80.0%)\n"
     ]
    },
    {
     "name": "stdout",
     "output_type": "stream",
     "text": [
      "dt=0.005, dur=10.0, N=10000, n=2000, nblocks=5\nnblocks=5, ymn.shape=(7, 3)\n"
     ]
    },
    {
     "name": "stdout",
     "output_type": "stream",
     "text": [
      "116 of 144 (81.0%)\n"
     ]
    },
    {
     "name": "stdout",
     "output_type": "stream",
     "text": [
      "dt=0.005, dur=10.0, N=10000, n=2000, nblocks=5\nnblocks=5, ymn.shape=(7, 3)\n"
     ]
    },
    {
     "name": "stdout",
     "output_type": "stream",
     "text": [
      "117 of 144 (81.0%)\n"
     ]
    },
    {
     "name": "stdout",
     "output_type": "stream",
     "text": [
      "dt=0.005, dur=10.0, N=10000, n=2000, nblocks=5\nnblocks=5, ymn.shape=(7, 3)\n"
     ]
    },
    {
     "name": "stdout",
     "output_type": "stream",
     "text": [
      "118 of 144 (82.0%)\n"
     ]
    },
    {
     "name": "stdout",
     "output_type": "stream",
     "text": [
      "dt=0.005, dur=10.0, N=10000, n=2000, nblocks=5\nnblocks=5, ymn.shape=(7, 3)\n"
     ]
    },
    {
     "name": "stdout",
     "output_type": "stream",
     "text": [
      "119 of 144 (83.0%)\n"
     ]
    },
    {
     "name": "stdout",
     "output_type": "stream",
     "text": [
      "dt=0.005, dur=10.0, N=10000, n=2000, nblocks=5\nnblocks=5, ymn.shape=(7, 3)\n"
     ]
    },
    {
     "name": "stdout",
     "output_type": "stream",
     "text": [
      "120 of 144 (83.0%)\n"
     ]
    },
    {
     "name": "stdout",
     "output_type": "stream",
     "text": [
      "dt=0.005, dur=10.0, N=10000, n=2000, nblocks=5\nnblocks=5, ymn.shape=(7, 3)\n"
     ]
    },
    {
     "name": "stdout",
     "output_type": "stream",
     "text": [
      "121 of 144 (84.0%)\n"
     ]
    },
    {
     "name": "stdout",
     "output_type": "stream",
     "text": [
      "dt=0.005, dur=10.0, N=10000, n=2000, nblocks=5\nnblocks=5, ymn.shape=(7, 3)\n"
     ]
    },
    {
     "name": "stdout",
     "output_type": "stream",
     "text": [
      "122 of 144 (85.0%)\n"
     ]
    },
    {
     "name": "stdout",
     "output_type": "stream",
     "text": [
      "dt=0.005, dur=10.0, N=10000, n=2000, nblocks=5\nnblocks=5, ymn.shape=(7, 3)\n"
     ]
    },
    {
     "name": "stdout",
     "output_type": "stream",
     "text": [
      "123 of 144 (85.0%)\n"
     ]
    },
    {
     "name": "stdout",
     "output_type": "stream",
     "text": [
      "dt=0.005, dur=10.0, N=10000, n=2000, nblocks=5\nnblocks=5, ymn.shape=(7, 3)\n"
     ]
    },
    {
     "name": "stdout",
     "output_type": "stream",
     "text": [
      "124 of 144 (86.0%)\n"
     ]
    },
    {
     "name": "stdout",
     "output_type": "stream",
     "text": [
      "dt=0.005, dur=10.0, N=10000, n=2000, nblocks=5\nnblocks=5, ymn.shape=(7, 3)\n"
     ]
    },
    {
     "name": "stdout",
     "output_type": "stream",
     "text": [
      "125 of 144 (87.0%)\n"
     ]
    },
    {
     "name": "stdout",
     "output_type": "stream",
     "text": [
      "dt=0.005, dur=10.0, N=10000, n=2000, nblocks=5\nnblocks=5, ymn.shape=(7, 3)\n"
     ]
    },
    {
     "name": "stdout",
     "output_type": "stream",
     "text": [
      "126 of 144 (88.0%)\n"
     ]
    },
    {
     "name": "stdout",
     "output_type": "stream",
     "text": [
      "dt=0.005, dur=10.0, N=10000, n=2000, nblocks=5\nnblocks=5, ymn.shape=(7, 3)\n"
     ]
    },
    {
     "name": "stdout",
     "output_type": "stream",
     "text": [
      "127 of 144 (88.0%)\n"
     ]
    },
    {
     "name": "stdout",
     "output_type": "stream",
     "text": [
      "dt=0.005, dur=10.0, N=10000, n=2000, nblocks=5\nnblocks=5, ymn.shape=(7, 3)\n"
     ]
    },
    {
     "name": "stdout",
     "output_type": "stream",
     "text": [
      "128 of 144 (89.0%)\n"
     ]
    },
    {
     "name": "stdout",
     "output_type": "stream",
     "text": [
      "dt=0.005, dur=10.0, N=10000, n=2000, nblocks=5\nnblocks=5, ymn.shape=(7, 3)\n"
     ]
    },
    {
     "name": "stdout",
     "output_type": "stream",
     "text": [
      "129 of 144 (90.0%)\n"
     ]
    },
    {
     "name": "stdout",
     "output_type": "stream",
     "text": [
      "dt=0.005, dur=10.0, N=10000, n=2000, nblocks=5\nnblocks=5, ymn.shape=(7, 3)\n"
     ]
    },
    {
     "name": "stdout",
     "output_type": "stream",
     "text": [
      "130 of 144 (90.0%)\n"
     ]
    },
    {
     "name": "stdout",
     "output_type": "stream",
     "text": [
      "dt=0.005, dur=10.0, N=10000, n=2000, nblocks=5\nnblocks=5, ymn.shape=(7, 3)\n"
     ]
    },
    {
     "name": "stdout",
     "output_type": "stream",
     "text": [
      "131 of 144 (91.0%)\n"
     ]
    },
    {
     "name": "stdout",
     "output_type": "stream",
     "text": [
      "dt=0.005, dur=10.0, N=10000, n=2000, nblocks=5\nnblocks=5, ymn.shape=(7, 3)\n"
     ]
    },
    {
     "name": "stdout",
     "output_type": "stream",
     "text": [
      "132 of 144 (92.0%)\n"
     ]
    },
    {
     "name": "stdout",
     "output_type": "stream",
     "text": [
      "dt=0.005, dur=10.0, N=10000, n=2000, nblocks=5\nnblocks=5, ymn.shape=(7, 3)\n"
     ]
    },
    {
     "name": "stdout",
     "output_type": "stream",
     "text": [
      "133 of 144 (92.0%)\n"
     ]
    },
    {
     "name": "stdout",
     "output_type": "stream",
     "text": [
      "dt=0.005, dur=10.0, N=10000, n=2000, nblocks=5\nnblocks=5, ymn.shape=(7, 3)\n"
     ]
    },
    {
     "name": "stdout",
     "output_type": "stream",
     "text": [
      "134 of 144 (93.0%)\n"
     ]
    },
    {
     "name": "stdout",
     "output_type": "stream",
     "text": [
      "dt=0.005, dur=10.0, N=10000, n=2000, nblocks=5\nnblocks=5, ymn.shape=(7, 3)\n"
     ]
    },
    {
     "name": "stdout",
     "output_type": "stream",
     "text": [
      "135 of 144 (94.0%)\n"
     ]
    },
    {
     "name": "stdout",
     "output_type": "stream",
     "text": [
      "dt=0.005, dur=10.0, N=10000, n=2000, nblocks=5\nnblocks=5, ymn.shape=(7, 3)\n"
     ]
    },
    {
     "name": "stdout",
     "output_type": "stream",
     "text": [
      "136 of 144 (94.0%)\n"
     ]
    },
    {
     "name": "stdout",
     "output_type": "stream",
     "text": [
      "dt=0.005, dur=10.0, N=10000, n=2000, nblocks=5\nnblocks=5, ymn.shape=(7, 3)\n"
     ]
    },
    {
     "name": "stdout",
     "output_type": "stream",
     "text": [
      "137 of 144 (95.0%)\n"
     ]
    },
    {
     "name": "stdout",
     "output_type": "stream",
     "text": [
      "dt=0.005, dur=10.0, N=10000, n=2000, nblocks=5\nnblocks=5, ymn.shape=(7, 3)\n"
     ]
    },
    {
     "name": "stdout",
     "output_type": "stream",
     "text": [
      "138 of 144 (96.0%)\n"
     ]
    },
    {
     "name": "stdout",
     "output_type": "stream",
     "text": [
      "dt=0.005, dur=10.0, N=10000, n=2000, nblocks=5\nnblocks=5, ymn.shape=(7, 3)\n"
     ]
    },
    {
     "name": "stdout",
     "output_type": "stream",
     "text": [
      "139 of 144 (97.0%)\n"
     ]
    },
    {
     "name": "stdout",
     "output_type": "stream",
     "text": [
      "dt=0.005, dur=10.0, N=10000, n=2000, nblocks=5\nnblocks=5, ymn.shape=(7, 3)\n"
     ]
    },
    {
     "name": "stdout",
     "output_type": "stream",
     "text": [
      "140 of 144 (97.0%)\n"
     ]
    },
    {
     "name": "stdout",
     "output_type": "stream",
     "text": [
      "dt=0.005, dur=10.0, N=10000, n=2000, nblocks=5\nnblocks=5, ymn.shape=(7, 3)\n"
     ]
    },
    {
     "name": "stdout",
     "output_type": "stream",
     "text": [
      "141 of 144 (98.0%)\n"
     ]
    },
    {
     "name": "stdout",
     "output_type": "stream",
     "text": [
      "dt=0.005, dur=10.0, N=10000, n=2000, nblocks=5\nnblocks=5, ymn.shape=(7, 3)\n"
     ]
    },
    {
     "name": "stdout",
     "output_type": "stream",
     "text": [
      "142 of 144 (99.0%)\n"
     ]
    },
    {
     "name": "stdout",
     "output_type": "stream",
     "text": [
      "dt=0.005, dur=10.0, N=10000, n=2000, nblocks=5\nnblocks=5, ymn.shape=(7, 3)\n"
     ]
    },
    {
     "name": "stdout",
     "output_type": "stream",
     "text": [
      "143 of 144 (99.0%)\n"
     ]
    },
    {
     "name": "stdout",
     "output_type": "stream",
     "text": [
      "dt=0.005, dur=10.0, N=10000, n=2000, nblocks=5\nnblocks=5, ymn.shape=(7, 3)\n"
     ]
    },
    {
     "name": "stdout",
     "output_type": "stream",
     "text": [
      "144 of 144 (100.0%)\n"
     ]
    }
   ],
   "source": [
    "orient = []\n",
    "accdyn = []\n",
    "orient_err = []\n",
    "acc_err = []\n",
    "\n",
    "for i, imu1 in enumerate(imus):\n",
    "    # EKF\n",
    "    imu1.filter(nsamp=10, method='running')\n",
    "\n",
    "    imu1.calibrate(duration=30.0)\n",
    "    imu1.get_inertial_coords(duration=30.0)\n",
    "    imu1.get_world_coordinates(duration=30.0)\n",
    "    \n",
    "    imu1.get_orientation(method='dsf', Ca=(0.0, 0.0, 0.0))\n",
    "    orient1 = copy(imu1.orient_world)\n",
    "    accdyn1 = copy(imu1.accdyn_world)\n",
    "\n",
    "    oerr1, aerr1 = get_error(imu1)\n",
    "    \n",
    "    # Madgwick\n",
    "    imu1.filter(method='butter', order=5, gyro_cutoff=(0.1, 10), acc_cutoff=(0, 30))\n",
    "    imu1.get_orientation(method='madgwick')\n",
    "    orient2 = copy(imu1.orient_world)\n",
    "    accdyn2 = copy(imu1.accdyn_world)\n",
    "    \n",
    "    oerr2, aerr2 = get_error(imu1)\n",
    "\n",
    "    orient.append([orient1, orient2])\n",
    "    accdyn.append([accdyn1, accdyn2])\n",
    "    orient_err.append([oerr1, oerr2])\n",
    "    acc_err.append([aerr1, aerr2])\n",
    "    print \"{} of {} ({}%)\".format(i+1, len(imus), round(float(i+1)/len(imus)*100))"
   ]
  },
  {
   "cell_type": "code",
   "execution_count": 17,
   "metadata": {},
   "outputs": [],
   "source": [
    "orient_err = np.array(orient_err)\n",
    "acc_err = np.array(acc_err)"
   ]
  },
  {
   "cell_type": "code",
   "execution_count": 18,
   "metadata": {},
   "outputs": [],
   "source": [
    "total_orient_err = np.sum(orient_err, axis=2)\n",
    "total_acc_err = np.sum(acc_err, axis=2)"
   ]
  },
  {
   "cell_type": "code",
   "execution_count": 19,
   "metadata": {},
   "outputs": [
    {
     "data": {
      "image/png": "[encoded data removed]",
      "text/plain": [
       "<matplotlib.figure.Figure at 0x11c8e6f50>"
      ]
     },
     "metadata": {},
     "output_type": "display_data"
    }
   ],
   "source": [
    "fig, ax = plt.subplots(2,1, sharex=True)\n",
    "\n",
    "width = 0.35\n",
    "\n",
    "ind = np.arange(len(imus))+1\n",
    "ax[0].bar(ind-width/2, np.rad2deg(total_orient_err[:,0]), width=width, color='r', label='DSF')\n",
    "ax[0].bar(ind+width/2, np.rad2deg(total_orient_err[:,1]), width=width, color='b', label='mad')\n",
    "ax[0].set_ylabel('Orientation error (deg)')\n",
    "ax[0].legend()\n",
    "\n",
    "ax[1].bar(ind-width/2, total_acc_err[:,0], width=width, color='r', label='DSF')\n",
    "ax[1].bar(ind+width/2, total_acc_err[:,1], width=width, color='b', label='mad')\n",
    "ax[1].set_ylabel('Acceleration error (g)')\n",
    "\n",
    "ax[1].set_xlabel('Parameter set')\n",
    "ax[1].set_xticks(ind[::2])\n",
    "ax[1].set_xlim([0, len(imus)+1])\n",
    "\n",
    "plt.show()"
   ]
  },
  {
   "cell_type": "code",
   "execution_count": 20,
   "metadata": {},
   "outputs": [],
   "source": [
    "true_ang_mag = []\n",
    "true_acc_mag = []\n",
    "for imu1 in imus:\n",
    "    ang1 = np.amax(imu1.orient_world_true, axis=None) - np.amin(imu1.orient_world_true, axis=None)\n",
    "    true_ang_mag.append(ang1)\n",
    "    acc1 = np.amax(imu1.accdyn_world_true, axis=None) - np.amin(imu1.accdyn_world_true, axis=None)\n",
    "    true_acc_mag.append(acc1)\n",
    "\n",
    "true_ang_mag = np.array(true_ang_mag)\n",
    "true_acc_mag = np.array(true_acc_mag)"
   ]
  },
  {
   "cell_type": "code",
   "execution_count": 22,
   "metadata": {},
   "outputs": [
    {
     "data": {
      "image/png": "[encoded data removed]",
      "text/plain": [
       "<matplotlib.figure.Figure at 0x183d56550>"
      ]
     },
     "metadata": {},
     "output_type": "display_data"
    }
   ],
   "source": [
    "fig, ax = plt.subplots(2,1, sharex=True)\n",
    "\n",
    "width = 0.35\n",
    "\n",
    "orient_err_perc = total_orient_err / true_ang_mag[:, np.newaxis]\n",
    "orient_err_perc[true_ang_mag < 0.02, :] = np.nan\n",
    "\n",
    "acc_err_perc = total_acc_err / true_acc_mag[:, np.newaxis]\n",
    "acc_err_perc[true_acc_mag < 0.01, :] = np.nan\n",
    "\n",
    "ind = np.arange(len(imus))+1\n",
    "ax[0].bar(ind-width/2, orient_err_perc[:,0]*100, width=width, color='r', label='DSF')\n",
    "ax[0].bar(ind+width/2, orient_err_perc[:,1]*100, width=width, color='b', label='mad')\n",
    "\n",
    "ax[0].set_ylabel('Orientation magnitude (%)')\n",
    "ax[0].legend()\n",
    "\n",
    "ax[1].bar(ind-width/2, acc_err_perc[:,0]*100, width=width, color='r', label='DSF')\n",
    "ax[1].bar(ind+width/2, acc_err_perc[:,1]*100, width=width, color='b', label='mad')\n",
    "ax[1].set_ylabel('Acceleration magnitude (%)')\n",
    "\n",
    "ax[1].set_xlabel('Parameter set')\n",
    "ax[1].set_xticks(ind[::2])\n",
    "ax[1].set_xlim([0, len(imus)+1])\n",
    "\n",
    "plt.show()"
   ]
  },
  {
   "cell_type": "code",
   "execution_count": 33,
   "metadata": {},
   "outputs": [],
   "source": [
    "pitch = np.array([p[0] for p in params])\n",
    "accel = np.array([p[1] for p in params])\n",
    "freq = np.array([p[2] for p in params])\n",
    "phaseoff = np.array([p[3] for p in params])"
   ]
  },
  {
   "cell_type": "code",
   "execution_count": 44,
   "metadata": {},
   "outputs": [
    {
     "data": {
      "text/plain": [
       "<matplotlib.axes._subplots.AxesSubplot at 0x183f27cd0>"
      ]
     },
     "execution_count": 44,
     "metadata": {},
     "output_type": "execute_result"
    },
    {
     "data": {
      "image/png": "[encoded data removed]",
      "text/plain": [
       "<matplotlib.figure.Figure at 0x183fba690>"
      ]
     },
     "metadata": {},
     "output_type": "display_data"
    }
   ],
   "source": [
    "sns.swarmplot(x=pitch, y=np.rad2deg(total_acc_err[:,0]), hue=freq)\n",
    "# sns.swarmplot(x=pitch, y=np.rad2deg(total_orient_err[:,1]), hue=accel)"
   ]
  },
  {
   "cell_type": "code",
   "execution_count": null,
   "metadata": {},
   "outputs": [],
   "source": [
    ""
   ]
  }
 ],
 "metadata": {
  "kernelspec": {
   "display_name": "Python 2",
   "language": "python",
   "name": "python2"
  },
  "language_info": {
   "codemirror_mode": {
    "name": "ipython",
    "version": 2.0
   },
   "file_extension": ".py",
   "mimetype": "text/x-python",
   "name": "python",
   "nbconvert_exporter": "python",
   "pygments_lexer": "ipython2",
   "version": "2.7.6"
  }
 },
 "nbformat": 4,
 "nbformat_minor": 0
}